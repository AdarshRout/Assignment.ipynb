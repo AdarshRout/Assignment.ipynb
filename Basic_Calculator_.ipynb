{
  "nbformat": 4,
  "nbformat_minor": 0,
  "metadata": {
    "colab": {
      "provenance": [],
      "collapsed_sections": []
    },
    "kernelspec": {
      "name": "python3",
      "display_name": "Python 3"
    },
    "language_info": {
      "name": "python"
    }
  },
  "cells": [
    {
      "cell_type": "code",
      "execution_count": null,
      "metadata": {
        "colab": {
          "base_uri": "https://localhost:8080/"
        },
        "id": "f0k4oTE-NCo1",
        "outputId": "070d0606-1b13-44fe-bfab-204e569cba45"
      },
      "outputs": [
        {
          "output_type": "stream",
          "name": "stdout",
          "text": [
            "Select Operation:\n",
            "1-Add\n",
            "2-Subtract\n",
            "3-Multiply\n",
            "4-Divide\n",
            "Enter Choice(1/2/3/4):2\n",
            "Enter 1st number:12\n",
            "Enter 2nd number:4\n",
            "12 - 4 = 8\n"
          ]
        }
      ],
      "source": [
        "#Basic Calculator Codes\n",
        "\n",
        "\n",
        "\n",
        "\n",
        "\n",
        "#ADDITION\n",
        "def add(x , y):\n",
        "   return x + y\n",
        "\n",
        "#SUBTRACTION\n",
        "def subtract(x , y):\n",
        "   return x - y\n",
        "\n",
        "#MULTIPLICATION\n",
        "def multiply(x , y):\n",
        "   return x * y\n",
        "\n",
        "#DIVISON\n",
        "def divide(x , y):\n",
        "   return x / y\n",
        "\n",
        "print(\"Select Operation:\")\n",
        "print(\"1-Add\")\n",
        "print(\"2-Subtract\")\n",
        "print(\"3-Multiply\")\n",
        "print(\"4-Divide\")\n",
        "\n",
        "#user input\n",
        "operation = input(\"Enter Choice(1/2/3/4):\")\n",
        "\n",
        "if operation in ('1', '2', '3', '4'):\n",
        "\n",
        "  a = int(input(\"Enter 1st number:\"))\n",
        "b = int(input(\"Enter 2nd number:\"))\n",
        "\n",
        "\n",
        "\n",
        "if operation == '1':\n",
        "            print(a, \"+\", b, \"=\", add(a, b))\n",
        "elif operation == '2':\n",
        "            print(a, \"-\", b, \"=\", subtract(a, b))\n",
        "\n",
        "elif operation == '3':\n",
        "            print(a, \"*\", b, \"=\", multiply(a, b))\n",
        "\n",
        "elif operation == '4':\n",
        "            print(a, \"/\", b, \"=\", divide(a, b))\n",
        "\n",
        "\n",
        "         "
      ]
    }
  ]
}