{
  "nbformat": 4,
  "nbformat_minor": 0,
  "metadata": {
    "colab": {
      "provenance": [],
      "collapsed_sections": []
    },
    "kernelspec": {
      "name": "python3",
      "display_name": "Python 3"
    },
    "language_info": {
      "name": "python"
    }
  },
  "cells": [
    {
      "cell_type": "code",
      "source": [
        "ListA = [\"Rice - 2kg\",\"Dal-1kg\", \"Fries-400gm\",23.65, 900, False]\n",
        "\n",
        "print(ListA[0])\n",
        "ListA.insert(2,345)\n",
        "print(ListA)\n",
        "ListA.append(False)\n",
        "print(ListA)"
      ],
      "metadata": {
        "colab": {
          "base_uri": "https://localhost:8080/"
        },
        "id": "5p_F3g8BJVDK",
        "outputId": "a0d488af-ab8c-468a-fea4-2c72dc319510"
      },
      "execution_count": null,
      "outputs": [
        {
          "output_type": "stream",
          "name": "stdout",
          "text": [
            "Rice - 2kg\n",
            "['Rice - 2kg', 'Dal-1kg', 345, 'Fries-400gm', 23.65, 900, False]\n",
            "['Rice - 2kg', 'Dal-1kg', 345, 'Fries-400gm', 23.65, 900, False, False]\n"
          ]
        }
      ]
    },
    {
      "cell_type": "code",
      "source": [
        "ListA.append(False)\n",
        "print(ListA)"
      ],
      "metadata": {
        "colab": {
          "base_uri": "https://localhost:8080/"
        },
        "id": "ls3AENelWkm1",
        "outputId": "c93bb18f-dab1-4a68-c36a-a148314d7081"
      },
      "execution_count": null,
      "outputs": [
        {
          "output_type": "stream",
          "name": "stdout",
          "text": [
            "['Rice - 2kg', 'Dal-1kg', 345, 'Fries-400gm', 23.65, 900, False, False, False, False, False, False, False]\n"
          ]
        }
      ]
    },
    {
      "cell_type": "code",
      "source": [
        "ListA.pop(8)\n",
        "print(ListA)"
      ],
      "metadata": {
        "colab": {
          "base_uri": "https://localhost:8080/"
        },
        "id": "V2jgVSJvYk1Y",
        "outputId": "bc720577-eae4-49c6-eae8-fd264e461897"
      },
      "execution_count": null,
      "outputs": [
        {
          "output_type": "stream",
          "name": "stdout",
          "text": [
            "['Rice - 2kg', 'Dal-1kg', 345, 'Fries-400gm', 23.65, 900, False, False, False, False]\n"
          ]
        }
      ]
    },
    {
      "cell_type": "code",
      "source": [
        "mylistB = [\"Rice - 2kg\",\"Dal - 3kg\",\"Curry - 2 bowls\"]\n",
        "print(mylistB[0])\n",
        "print(mylistB[1])\n",
        "print(mylistB[2])\n",
        "print(mylistB[-1])\n",
        "print(mylistB[-2])\n",
        "print(mylistB[-3])"
      ],
      "metadata": {
        "colab": {
          "base_uri": "https://localhost:8080/"
        },
        "id": "5Xm8OWF1Ho_9",
        "outputId": "53cd3315-434c-48e4-fe7b-5858dc3ab4fd"
      },
      "execution_count": null,
      "outputs": [
        {
          "output_type": "stream",
          "name": "stdout",
          "text": [
            "Rice - 2kg\n",
            "Dal - 3kg\n",
            "Curry - 2 bowls\n",
            "Curry - 2 bowls\n",
            "Dal - 3kg\n",
            "Rice - 2kg\n"
          ]
        }
      ]
    },
    {
      "cell_type": "code",
      "source": [
        "for y in mylistB:\n",
        "  print(y)"
      ],
      "metadata": {
        "colab": {
          "base_uri": "https://localhost:8080/"
        },
        "id": "vlnelnC6UrLi",
        "outputId": "e4103873-59af-4be4-d6bc-7cc45f31a5e3"
      },
      "execution_count": null,
      "outputs": [
        {
          "output_type": "stream",
          "name": "stdout",
          "text": [
            "Rice - 2kg\n",
            "Dal - 3kg\n",
            "Curry - 2 bowls\n"
          ]
        }
      ]
    },
    {
      "cell_type": "code",
      "source": [
        "minetuple=(\"Origami\",\"Horse\",\"Orizon\",47)\n",
        "print(minetuple)\n",
        "print(len(minetuple))\n",
        "\n",
        "print(\"The updated values are\",minetuple)"
      ],
      "metadata": {
        "colab": {
          "base_uri": "https://localhost:8080/"
        },
        "id": "osAjVVEf8tRY",
        "outputId": "ea94d8fe-0a33-4a35-adb8-faba9f0c4ba2"
      },
      "execution_count": null,
      "outputs": [
        {
          "output_type": "stream",
          "name": "stdout",
          "text": [
            "('Origami', 'Horse', 'Orizon', 47)\n",
            "4\n",
            "The updated values are ('Origami', 'Horse', 'Orizon', 47)\n"
          ]
        }
      ]
    },
    {
      "cell_type": "code",
      "source": [
        "myonlydic={\n",
        "    \"Brand\":\"Volkswagen\",\n",
        "    \"Color\":\"Bluish Green\",\n",
        "    \"Mfg year\":\"2002\",\n",
        "    \"Engine\":\"39090cc\"\n",
        "} \n",
        "myonlydic[\"S/N\"]=22054879\n",
        "print(myonlydic)"
      ],
      "metadata": {
        "colab": {
          "base_uri": "https://localhost:8080/"
        },
        "id": "Fm0qMy8eXfMc",
        "outputId": "49ce050e-1b74-46c2-ebae-30c2fe926a9f"
      },
      "execution_count": null,
      "outputs": [
        {
          "output_type": "stream",
          "name": "stdout",
          "text": [
            "{'Brand': 'Volkswagen', 'Color': 'Bluish Green', 'Mfg year': '2002', 'Engine': '39090cc', 'S/N': 22054879}\n"
          ]
        }
      ]
    },
    {
      "cell_type": "code",
      "source": [
        "set4d={'2 french fries', \"burger\",\" 0\",\"pizza\",\"coke\"}\n",
        "print(set4d)"
      ],
      "metadata": {
        "colab": {
          "base_uri": "https://localhost:8080/"
        },
        "id": "gCPjWJXWXfJP",
        "outputId": "fa2ad5d0-542a-487d-a06b-4eb35be6cd45"
      },
      "execution_count": null,
      "outputs": [
        {
          "output_type": "stream",
          "name": "stdout",
          "text": [
            "{' 0', '2 french fries', 'coke', 'burger', 'pizza'}\n"
          ]
        }
      ]
    },
    {
      "cell_type": "code",
      "source": [
        "set1={\"090001001\",\"01010\"}\n",
        "set2={\"precious0010\",\"for\",\"everyone\"}\n",
        "set3=set1|set2\n",
        "print(set3)"
      ],
      "metadata": {
        "colab": {
          "base_uri": "https://localhost:8080/"
        },
        "id": "LVPf08SqXfFm",
        "outputId": "f9e70d31-b3fb-4748-a04a-0596fb7cf3ed"
      },
      "execution_count": null,
      "outputs": [
        {
          "output_type": "stream",
          "name": "stdout",
          "text": [
            "{'01010', 'everyone', '090001001', 'precious0010', 'for'}\n"
          ]
        }
      ]
    },
    {
      "cell_type": "code",
      "source": [
        "set1={\"090001001\",\"01010\"}\n",
        "set2={\"precious0010\",\"for\",\"everyone\"}\n",
        "set3=set1&set2\n",
        "print(set3)"
      ],
      "metadata": {
        "id": "3bhBe2SwbMog"
      },
      "execution_count": null,
      "outputs": []
    },
    {
      "cell_type": "code",
      "source": [
        "w=\"Extravagantlycosmogenital\"\n",
        "print(w[14:18])\n",
        "print(w[-9:-2])\n",
        "print(w[5:15])\n",
        "print(w[2:10])\n",
        "print(w[0:20])\n",
        "print(w[0:20:15])"
      ],
      "metadata": {
        "colab": {
          "base_uri": "https://localhost:8080/"
        },
        "id": "b_EViQdNXe2q",
        "outputId": "33cd7c72-a5c3-4d16-aa10-867981767a1b"
      },
      "execution_count": null,
      "outputs": [
        {
          "output_type": "stream",
          "name": "stdout",
          "text": [
            "osmo\n",
            "mogenit\n",
            "vagantlyco\n",
            "travagan\n",
            "Extravagantlycosmoge\n",
            "Es\n"
          ]
        }
      ]
    },
    {
      "cell_type": "code",
      "source": [
        "def IBM(join,time,venue):\n",
        "  print(\"Join us on IBM techfest \\non\",join,\"\\nat\",time,venue)\n",
        "IBM(\"\\n26th November 2022\", time=\"\\n7am\", venue=\"\\nIIM,Jammu\")"
      ],
      "metadata": {
        "colab": {
          "base_uri": "https://localhost:8080/"
        },
        "id": "8_F4fuPnPEvX",
        "outputId": "c820a337-9353-4b5e-9cd0-f03ffac7cf66"
      },
      "execution_count": null,
      "outputs": [
        {
          "output_type": "stream",
          "name": "stdout",
          "text": [
            "Join us on IBM techfest \n",
            "on \n",
            "26th November 2022 \n",
            "at \n",
            "7am \n",
            "IIM,Jammu\n"
          ]
        }
      ]
    },
    {
      "cell_type": "code",
      "source": [
        "def teachnook(course,domain,price):\n",
        " print(\"The cost for\",course,\"in\",domain,\"domain is\",price)\n",
        "teachnook(\"B.Tech\",\"Cyber Security\",250000)"
      ],
      "metadata": {
        "colab": {
          "base_uri": "https://localhost:8080/"
        },
        "id": "i5PWtgpvMQUB",
        "outputId": "d7fbc1df-4a64-4ed2-f293-15224ede31aa"
      },
      "execution_count": null,
      "outputs": [
        {
          "output_type": "stream",
          "name": "stdout",
          "text": [
            "The cost for B.Tech in Cyber Security domain is 250000\n"
          ]
        }
      ]
    },
    {
      "cell_type": "code",
      "source": [
        "a=\"hello everyone\"\n",
        "print(a.index(\"e\",7))"
      ],
      "metadata": {
        "colab": {
          "base_uri": "https://localhost:8080/"
        },
        "id": "fyACUb_kVOHH",
        "outputId": "71583abb-3a91-4983-f408-740ef1022817"
      },
      "execution_count": null,
      "outputs": [
        {
          "output_type": "stream",
          "name": "stdout",
          "text": [
            "8\n"
          ]
        }
      ]
    },
    {
      "cell_type": "code",
      "source": [],
      "metadata": {
        "id": "lAqKZkEseHIj"
      },
      "execution_count": null,
      "outputs": []
    }
  ]
}